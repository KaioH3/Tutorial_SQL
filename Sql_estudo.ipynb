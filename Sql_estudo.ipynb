{
 "cells": [
  {
   "cell_type": "markdown",
   "id": "71d0ccbb-cb8f-431e-b71c-2ef728c23059",
   "metadata": {},
   "source": [
    "## \"Eu odiava cada minuto dos treinos, mas dizia para mim mesmo: Não desista! Sofra agora e viva o resto de sua vida como um campeão\".\n",
    "# Muhammad Ali"
   ]
  },
  {
   "cell_type": "markdown",
   "id": "c4f0226e-cce4-4980-b4fb-0bb70f09e400",
   "metadata": {},
   "source": [
    "##"
   ]
  },
  {
   "cell_type": "markdown",
   "id": "646f4b1e-2ab4-445d-b5a9-deaa8e226d6b",
   "metadata": {},
   "source": [
    "Importa a biblioteca sqlite3 Built-in do python, ou seja, é uma biblioteca que já é inclusa por padrão no python puro"
   ]
  },
  {
   "cell_type": "markdown",
   "id": "42df9616-ae8e-42dc-aea5-73859c96c8ed",
   "metadata": {},
   "source": [
    "Todas as libs padrão do python: https://docs.python.org/3/library/index.html"
   ]
  },
  {
   "cell_type": "code",
   "execution_count": 142,
   "id": "59b0cf8e-51e1-4d27-94cd-e2e9ebf5c259",
   "metadata": {},
   "outputs": [],
   "source": [
    "import sqlite3"
   ]
  },
  {
   "cell_type": "markdown",
   "id": "b6f02a7b-b869-443d-89f4-0cd55d3cccc6",
   "metadata": {},
   "source": [
    "SQL, na maioria das vezes, não é uma linguagem case sentive(SELECT não é um comando diferente de select), porém todos os comandos aqui serão escritos em maiúsculo.\n",
    "Saiba um pouco mais aqui: https://learnsql.com/blog/sql-case-sensitive/"
   ]
  },
  {
   "cell_type": "markdown",
   "id": "2541770e-45dd-4152-9ea1-134dd46945dc",
   "metadata": {},
   "source": [
    "O sqllite possui uma coluna auto incrementada implicita, o \"rowid\"."
   ]
  },
  {
   "cell_type": "markdown",
   "id": "3920b848-655f-4c83-8882-82d34846b40b",
   "metadata": {},
   "source": [
    "O sql permite dividir linhas de codigo por \";\", porém não se precisa usar. Saiba mais aqui: https://stackoverflow.com/questions/710683/when-should-i-use-semicolons-in-sql-server"
   ]
  },
  {
   "cell_type": "code",
   "execution_count": 143,
   "id": "f33a6e7f-7497-42a8-86f7-46b5b64058e2",
   "metadata": {},
   "outputs": [],
   "source": [
    "# se conecta ao banco de dados existente ou o cria caso não exista \n",
    "conexao = sqlite3.connect('casos_obitos_doencas_preexistentes.db') \n",
    "\n",
    "# cria o cursor que será utilizado para operar no banco de dados\n",
    "cursor = conexao.cursor() "
   ]
  },
  {
   "cell_type": "code",
   "execution_count": null,
   "id": "6339c0ec-0eb7-409a-845c-d7c934d879c0",
   "metadata": {},
   "outputs": [],
   "source": [
    "# cria a primeira tabela se esta não existir\n",
    "# executa comandos sql\n",
    "cursor.execute(''' \n",
    "--isto e um comentario de linha unica na linguagem SQL\n",
    "CREATE TABLE IF NOT EXISTS primeira_tabela(\n",
    "   nome_munic              VARCHAR(8) \n",
    "  ,idade                   INTEGER  \n",
    "  ,cs_sexo                 VARCHAR(9) \n",
    "  ,diagnostico_covid19     VARCHAR(10) \n",
    "  ,data_inicio_sintomas    VARCHAR(20) \n",
    "  ,obito                   BIT);\n",
    "''')\n",
    "\n",
    "conexao.commit() # e salva a tabela criada^ no arquivo .db, e usarei este comando em todas as ocasiões que for necessário modificar o banco de dados permanentemente, ou seja, salvar em disco"
   ]
  },
  {
   "cell_type": "code",
   "execution_count": null,
   "id": "3eeba6e9-3cc4-404d-8b89-e0469ac57388",
   "metadata": {},
   "outputs": [],
   "source": [
    "# olhando a estrutura que servirá para inserir dados na 'primeira_tabela' \n",
    "cursor.execute('''INSERT INTO primeira_tabela(nome_munic,idade,cs_sexo,diagnostico_covid19,data_inicio_sintomas,obito) VALUES\n",
    " ('Louveira',41,'MASCULINO','CONFIRMADO','2021-03-15T00:00:00Z',0);''')\n",
    "conexao.commit()"
   ]
  },
  {
   "cell_type": "code",
   "execution_count": null,
   "id": "c2ed5262-84fb-43b9-8936-e6e1f7038b43",
   "metadata": {},
   "outputs": [],
   "source": [
    "cursor.execute('''\n",
    "INSERT INTO primeira_tabela(nome_munic,idade,cs_sexo,diagnostico_covid19,data_inicio_sintomas,obito) \n",
    "\n",
    "VALUES\n",
    " ('Limeira',33,'FEMININO','CONFIRMADO','2021-05-30T00:00:00Z',0)\n",
    ",('Limeira',23,'FEMININO','CONFIRMADO','2021-05-30T00:00:00Z',0)\n",
    ",('Limeira',49,'FEMININO','CONFIRMADO','2021-05-30T00:00:00Z',0);\n",
    "''')\n",
    "conexao.commit()"
   ]
  },
  {
   "cell_type": "code",
   "execution_count": null,
   "id": "999505fc-f907-48f0-9a6b-509c0015692d",
   "metadata": {},
   "outputs": [],
   "source": [
    "# executa um comando e pesquisa(onde 'fetchall' significa buscar tudo)\n",
    "cursor.execute('SELECT * FROM primeira_tabela').fetchall()"
   ]
  },
  {
   "cell_type": "code",
   "execution_count": null,
   "id": "bb5e1a1c-a749-4979-b85d-4ca00270600a",
   "metadata": {},
   "outputs": [],
   "source": [
    "# agora, para facilitar as consultas, as execuções e os salvamentos, crio estas funções e objeto:\n",
    "def consulta(comandos):\n",
    "    # uma função retorna os resultados\n",
    "    resultado = cursor.execute('{}'.format(comandos)).fetchall()\n",
    "    return resultado\n",
    "\n",
    "def executa(comandos):\n",
    "    # e a outra apenas executa os comandos\n",
    "    cursor.execute('{}'.format(comandos))"
   ]
  },
  {
   "cell_type": "code",
   "execution_count": null,
   "id": "13914e7a-a232-445c-8e5d-79a300d77b53",
   "metadata": {},
   "outputs": [],
   "source": [
    "# funcionamento\n",
    "consulta('SELECT * FROM primeira_tabela')\n",
    "\n",
    "# ou desta forma para mais linhas(note o uso de três aspas unicas, isto serve para poder passar mais linhas para a função):\n",
    "consulta('''SELECT * \n",
    "           FROM primeira_tabela''')"
   ]
  },
  {
   "cell_type": "code",
   "execution_count": null,
   "id": "7d8cc310-3974-48ff-962d-c2f85a429563",
   "metadata": {},
   "outputs": [],
   "source": [
    "# executa os comandos e salva no arquivo .db\n",
    "executa('''INSERT INTO primeira_tabela(nome_munic,idade,cs_sexo,diagnostico_covid19,data_inicio_sintomas,obito) VALUES\n",
    " ('Limeira',29,'FEMININO','CONFIRMADO','2021-05-30T00:00:00Z',0)\n",
    ",('Limeira',25,'FEMININO','CONFIRMADO','2021-05-30T00:00:00Z',0)\n",
    ",('Limeira',23,'FEMININO','CONFIRMADO','2021-05-30T00:00:00Z',0)\n",
    ",('Limeira',46,'FEMININO','CONFIRMADO','2021-05-30T00:00:00Z',0);''')\n",
    "conexao.commit()\n",
    "executa('SELECT * FROM primeira_tabela')"
   ]
  },
  {
   "cell_type": "code",
   "execution_count": null,
   "id": "27aafe75-20a8-4c22-9f2c-cc1af7d91cd7",
   "metadata": {},
   "outputs": [],
   "source": [
    "# colocando os dados restantes \n",
    "# e é aqui que vem o truque para estudar sql com pouco poder computacional: \n",
    "# Você pode escolher os dados que estão escritos no arquivo \"casos_obitos_doencas_preexistentes_primeira_tabela.txt\" onde terão comandos para inserir dados com 4 valores\n",
    "# Então você poderá inserir quantos dados quiser, ao invés de inserir todos os dados!\n",
    "executa('''INSERT INTO primeira_tabela(nome_munic,idade,cs_sexo,diagnostico_covid19,data_inicio_sintomas,obito) VALUES\n",
    " ('Jaú',63,'FEMININO','CONFIRMADO','2021-01-24T00:00:00Z',0),('Jaú',41,'MASCULINO','CONFIRMADO','2021-01-24T00:00:00Z',0)\n",
    ",('Limeira',27,'FEMININO','CONFIRMADO','2021-05-30T00:00:00Z',0)\n",
    ",('Limeira',30,'MASCULINO','CONFIRMADO','2021-05-30T00:00:00Z',0)\n",
    ",('Limeira',47,'FEMININO','CONFIRMADO','2021-05-31T00:00:00Z',0)\n",
    ",('Limeira',26,'FEMININO','CONFIRMADO','2021-05-31T00:00:00Z',0)\n",
    ",('Limeira',37,'MASCULINO','CONFIRMADO','2021-05-31T00:00:00Z',0)\n",
    ",('Limeira',50,'MASCULINO','CONFIRMADO','2021-05-31T00:00:00Z',0)\n",
    ",('Limeira',49,'FEMININO','CONFIRMADO','2021-05-31T00:00:00Z',0)\n",
    ",('Limeira',53,'FEMININO','CONFIRMADO','2021-05-31T00:00:00Z',0)\n",
    ",('Limeira',45,'FEMININO','CONFIRMADO','2021-05-31T00:00:00Z',0)\n",
    ",('Limeira',24,'MASCULINO','CONFIRMADO','2021-05-31T00:00:00Z',0)\n",
    ",('Lins',56,'FEMININO','CONFIRMADO','2021-03-30T00:00:00Z',0)\n",
    ",('Lins',36,'FEMININO','CONFIRMADO','2021-03-30T00:00:00Z',0)\n",
    ",('Lins',58,'FEMININO','CONFIRMADO','2021-03-30T00:00:00Z',0)\n",
    ",('Louveira',31,'FEMININO','CONFIRMADO','2021-03-15T00:00:00Z',0)\n",
    ",('Limeira',53,'FEMININO','CONFIRMADO','2021-05-30T00:00:00Z',0)\n",
    ",('Limeira',21,'MASCULINO','CONFIRMADO','2021-05-30T00:00:00Z',0)\n",
    ",('Limeira',59,'FEMININO','CONFIRMADO','2021-05-30T00:00:00Z',0)\n",
    ",('Limeira',31,'MASCULINO','CONFIRMADO','2021-05-30T00:00:00Z',0)\n",
    ",('Limeira',53,'MASCULINO','CONFIRMADO','2021-05-30T00:00:00Z',0)\n",
    ",('Limeira',11,'FEMININO','CONFIRMADO','2021-05-30T00:00:00Z',0)\n",
    ",('Limeira',34,'FEMININO','CONFIRMADO','2021-05-30T00:00:00Z',0)\n",
    ",('Limeira',50,'FEMININO','CONFIRMADO','2021-05-30T00:00:00Z',0)\n",
    ",('Limeira',16,'MASCULINO','CONFIRMADO','2021-05-30T00:00:00Z',0)\n",
    ",('Limeira',43,'MASCULINO','CONFIRMADO','2021-05-30T00:00:00Z',1)\n",
    ",('Limeira',28,'FEMININO','CONFIRMADO','2021-05-30T00:00:00Z',0)\n",
    ",('Limeira',26,'FEMININO','CONFIRMADO','2021-05-30T00:00:00Z',0)\n",
    ",('Limeira',56,'FEMININO','CONFIRMADO','2021-05-30T00:00:00Z',0)\n",
    ",('Limeira',64,'FEMININO','CONFIRMADO','2021-05-30T00:00:00Z',0)\n",
    ",('Limeira',63,'MASCULINO','CONFIRMADO','2021-05-30T00:00:00Z',0)\n",
    ",('Lins',53,'MASCULINO','CONFIRMADO','2021-03-29T00:00:00Z',0)\n",
    ",('Lins',47,'MASCULINO','CONFIRMADO','2021-03-30T00:00:00Z',0)\n",
    ",('Limeira',22,'FEMININO','CONFIRMADO','2021-05-30T00:00:00Z',0)\n",
    ",('Limeira',37,'MASCULINO','CONFIRMADO','2021-05-30T00:00:00Z',0)\n",
    ",('Limeira',12,'FEMININO','CONFIRMADO','2021-05-30T00:00:00Z',0)\n",
    ",('Limeira',56,'FEMININO','CONFIRMADO','2021-05-30T00:00:00Z',0)\n",
    ",('Limeira',35,'FEMININO','CONFIRMADO','2021-05-30T00:00:00Z',0)\n",
    ",('Limeira',57,'FEMININO','CONFIRMADO','2021-05-30T00:00:00Z',0)\n",
    ",('Limeira',48,'FEMININO','CONFIRMADO','2021-05-30T00:00:00Z',0)\n",
    ",('Limeira',51,'MASCULINO','CONFIRMADO','2021-05-30T00:00:00Z',0)\n",
    ",('Limeira',37,'MASCULINO','CONFIRMADO','2021-05-30T00:00:00Z',0)\n",
    ",('Limeira',43,'MASCULINO','CONFIRMADO','2021-05-30T00:00:00Z',0)\n",
    ",('Limeira',34,'MASCULINO','CONFIRMADO','2021-05-30T00:00:00Z',0)\n",
    ",('Limeira',43,'MASCULINO','CONFIRMADO','2021-05-30T00:00:00Z',0)\n",
    ",('Limeira',38,'FEMININO','CONFIRMADO','2021-05-30T00:00:00Z',0)\n",
    ",('Louveira',21,'MASCULINO','CONFIRMADO','2021-03-14T00:00:00Z',0)\n",
    ",('Louveira',64,'FEMININO','CONFIRMADO','2021-03-14T00:00:00Z',1)\n",
    ",('Louveira',39,'MASCULINO','CONFIRMADO','2021-03-14T00:00:00Z',0)\n",
    ",('Louveira',27,'MASCULINO','CONFIRMADO','2021-03-14T00:00:00Z',0)\n",
    ",('Louveira',35,'FEMININO','CONFIRMADO','2021-03-15T00:00:00Z',0)\n",
    ",('Louveira',41,'MASCULINO','CONFIRMADO','2021-03-15T00:00:00Z',0)\n",
    ",('Louveira',34,'FEMININO','CONFIRMADO','2021-03-15T00:00:00Z',0)\n",
    ",('Louveira',47,'FEMININO','CONFIRMADO','2021-03-15T00:00:00Z',0)\n",
    ",('Louveira',26,'MASCULINO','CONFIRMADO','2021-03-15T00:00:00Z',0)\n",
    ",('Louveira',33,'FEMININO','CONFIRMADO','2021-03-16T00:00:00Z',0)\n",
    ",('Louveira',58,'MASCULINO','CONFIRMADO','2021-03-16T00:00:00Z',0)\n",
    ",('Louveira',57,'FEMININO','CONFIRMADO','2021-03-16T00:00:00Z',0)\n",
    ",('Louveira',38,'MASCULINO','CONFIRMADO','2021-03-16T00:00:00Z',0)\n",
    ",('Louveira',40,'MASCULINO','CONFIRMADO','2021-03-16T00:00:00Z',0)\n",
    ",('Limeira',31,'FEMININO','CONFIRMADO','2021-05-30T00:00:00Z',0)\n",
    ",('Limeira',15,'FEMININO','CONFIRMADO','2021-05-30T00:00:00Z',0);''')\n",
    "\n",
    "conexao.commit()"
   ]
  },
  {
   "cell_type": "code",
   "execution_count": null,
   "id": "33be44a2-1ec4-4c73-b924-6ff79e99fbc9",
   "metadata": {},
   "outputs": [],
   "source": [
    "# Adicionando novos dados com valores faltantes(NULL)\n",
    "executa('''INSERT INTO primeira_tabela(nome_munic,idade,cs_sexo,diagnostico_covid19,data_inicio_sintomas,obito) VALUES\n",
    " ('Jaú',63,NULL,NULL,'2021-01-24T00:00:00Z',0),('Jaú',41,NULL,'CONFIRMADO','2021-01-24T00:00:00Z',0)\n",
    ",('Limeira',27,'FEMININO','CONFIRMADO',NULL,0)\n",
    ",('Limeira',30,'MASCULINO','CONFIRMADO','2021-05-30T00:00:00Z',NULL);''')\n",
    "\n",
    "conexao.commit()"
   ]
  },
  {
   "cell_type": "code",
   "execution_count": null,
   "id": "d53635af-8cbb-4d7a-be40-674b60d48ec9",
   "metadata": {},
   "outputs": [],
   "source": [
    "# a função 'consulta' sempre retorna uma lista com as consultas\n",
    "r = consulta('SELECT * FROM primeira_tabela')\n",
    "type(r)"
   ]
  },
  {
   "cell_type": "code",
   "execution_count": null,
   "id": "596b491b-6092-4b36-a23c-6b3d1d42f0dd",
   "metadata": {},
   "outputs": [],
   "source": [
    "# Seleciona todas as colunas (SELECT *) da 'primeira_tabela' (FROM primeira_tabela) e filtra os registros onde idade é 21(WHERE idade=21)\n",
    "consulta(''' \n",
    "SELECT *\n",
    "FROM primeira_tabela\n",
    "WHERE idade=21\n",
    "''')"
   ]
  },
  {
   "cell_type": "markdown",
   "id": "86f1e033-c467-4729-878f-6b28bc39c2a1",
   "metadata": {},
   "source": [
    "## Operador Limit"
   ]
  },
  {
   "cell_type": "code",
   "execution_count": null,
   "id": "1496fb96-4c4c-4c3f-85eb-3e1da389c651",
   "metadata": {},
   "outputs": [],
   "source": [
    "# Seleciona todas as colunas (SELECT *) da 'primeira_tabela' (FROM primeira_tabela) e mostra os primeiros 10 registros\n",
    "# no mundo real, bancos de dados as vezes vão ter milhões ou bilhões de linhas, por isso deve-se sempre limitar as linhas\n",
    "consulta(''' \n",
    "SELECT *\n",
    "FROM primeira_tabela\n",
    "LIMIT 10\n",
    "''')"
   ]
  },
  {
   "cell_type": "markdown",
   "id": "efe74c7e-b660-48b7-ab29-a16a7577e08f",
   "metadata": {},
   "source": [
    "## Operadores lógicos"
   ]
  },
  {
   "cell_type": "code",
   "execution_count": null,
   "id": "92d92815-5e1b-4013-b92d-6d1433428fe8",
   "metadata": {},
   "outputs": [],
   "source": [
    "# o operador OR retorna qualquer registro em que a condições seja verdadeira \n",
    "# Condição OR Condição\n",
    "# retornando as idades que são iguais a 21 ou 23(WHERE idade=21 OR idade=23)\n",
    "consulta(''' \n",
    "SELECT *\n",
    "FROM primeira_tabela\n",
    "WHERE idade=27 OR idade=23\n",
    "''')"
   ]
  },
  {
   "cell_type": "code",
   "execution_count": null,
   "id": "3df38d15-619f-4427-acfd-f13e565716fb",
   "metadata": {},
   "outputs": [],
   "source": [
    "# o operador AND retorna os registro em que as duas condições sejam verdadeiras\n",
    "# Condição AND Condição\n",
    "# retornando os valores em que a idade é igual a 21 e o nome_munic seja igual a 'Limeira' (WHERE idade=21 AND nome_munic='Limeira')\n",
    "consulta(''' \n",
    "SELECT *\n",
    "FROM primeira_tabela\n",
    "WHERE idade=21 AND nome_munic='Limeira' \n",
    "''')"
   ]
  },
  {
   "cell_type": "code",
   "execution_count": null,
   "id": "0cdfe1dc-aa01-4dc4-bb8f-3a0a24796a38",
   "metadata": {},
   "outputs": [],
   "source": [
    "# o operador NOT retorna os registro em que a condição seja não verdadeira(falsa)\n",
    "# NOT Condição\n",
    "# retornando todos os resultados onde nome_munic não é 'Limeira'(WHERE NOT nome_munic='Limeira')\n",
    "consulta(''' \n",
    "SELECT *\n",
    "FROM primeira_tabela\n",
    "WHERE NOT nome_munic='Limeira' \n",
    "''')"
   ]
  },
  {
   "cell_type": "code",
   "execution_count": null,
   "id": "14bc39be-04be-4d2a-90c2-b6bd7b7c4ce6",
   "metadata": {},
   "outputs": [],
   "source": [
    "# retorna as linhas onde a coluna obito é NULL(WHERE obito IS NULL)\n",
    "consulta(''' \n",
    "SELECT *\n",
    "FROM primeira_tabela\n",
    "WHERE obito IS NULL\n",
    "''') "
   ]
  },
  {
   "cell_type": "code",
   "execution_count": null,
   "id": "171be244-a343-4705-9433-bf732d9f8434",
   "metadata": {},
   "outputs": [],
   "source": [
    "# retorna as linhas onde a coluna obito não é NULL(WHERE obito IS NOT NULL)\n",
    "consulta(''' \n",
    "SELECT *\n",
    "FROM primeira_tabela\n",
    "WHERE obito IS NOT NULL\n",
    "''') "
   ]
  },
  {
   "cell_type": "code",
   "execution_count": null,
   "id": "d58c2728-fed3-4f1b-8f60-bee74648f364",
   "metadata": {},
   "outputs": [],
   "source": [
    "# mostra o registro onde o rowid é igual a 4, ou seja, mostra a quarta linha\n",
    "consulta('''\n",
    "SELECT * \n",
    "FROM primeira_tabela\n",
    "WHERE rowid = 4\n",
    "''')"
   ]
  },
  {
   "cell_type": "markdown",
   "id": "24e1a8e4-04bd-47f2-902d-1c77bf367d1e",
   "metadata": {},
   "source": [
    "## Operadores de comparação"
   ]
  },
  {
   "cell_type": "code",
   "execution_count": null,
   "id": "80686537-1197-4d43-be32-b1ba975ac849",
   "metadata": {},
   "outputs": [],
   "source": [
    "# retorna os registros onde a idade seja menor ou igual a 20 (WHERE idade<=20)\n",
    "consulta('''\n",
    "SELECT *\n",
    "FROM primeira_tabela\n",
    "WHERE idade<=20\n",
    "''')"
   ]
  },
  {
   "cell_type": "code",
   "execution_count": null,
   "id": "1608fbdf-3f18-4bfa-bce4-14d0266406ea",
   "metadata": {},
   "outputs": [],
   "source": [
    "# retorna os registros onde a idade seja maior que 30, não incluindo os valores iguais a 30 (WHERE idade>30)\n",
    "consulta('''\n",
    "SELECT *\n",
    "FROM primeira_tabela\n",
    "WHERE idade>30\n",
    "''')"
   ]
  },
  {
   "cell_type": "code",
   "execution_count": null,
   "id": "7bd30029-1055-49ea-97a3-1c42f473a2f9",
   "metadata": {},
   "outputs": [],
   "source": [
    "# retorna os registros onde a idade seja igual a 30 (WHERE idade=30)\n",
    "consulta('''\n",
    "SELECT *\n",
    "FROM primeira_tabela\n",
    "WHERE idade=30\n",
    "''')"
   ]
  },
  {
   "cell_type": "code",
   "execution_count": null,
   "id": "588620e6-5036-4612-bf84-1cb5b7bb2741",
   "metadata": {},
   "outputs": [],
   "source": [
    "# retorna os registros onde a idade seja diferente de 40 (WHERE idade=30)\n",
    "consulta('''\n",
    "SELECT *\n",
    "FROM primeira_tabela\n",
    "WHERE idade<>40\n",
    "''')"
   ]
  },
  {
   "cell_type": "code",
   "execution_count": null,
   "id": "35adf8cf-2c33-499c-a990-c6ce56da1174",
   "metadata": {},
   "outputs": [],
   "source": [
    "# retorna os registros onde a idade não seja igual a 40 (WHERE idade=30), sendo muito semelhante a condição de cima^, pelo menos nesse caso\n",
    "consulta('''\n",
    "SELECT *\n",
    "FROM primeira_tabela\n",
    "WHERE idade=40\n",
    "''')"
   ]
  },
  {
   "cell_type": "markdown",
   "id": "f5cf4254-4a31-46d0-9268-9cba727d12fd",
   "metadata": {},
   "source": [
    "## Operações aritméticas "
   ]
  },
  {
   "cell_type": "code",
   "execution_count": null,
   "id": "afde31c0-923f-44de-b33a-083cc4a50f1b",
   "metadata": {},
   "outputs": [],
   "source": [
    "# retorna os registros de 'nome_munic' e somando 1 a 'idade' \n",
    "consulta('''\n",
    "SELECT nome_munic, idade+1\n",
    "FROM primeira_tabela\n",
    "''')"
   ]
  },
  {
   "cell_type": "code",
   "execution_count": null,
   "id": "37b62654-2d62-4c3d-9631-0ad8babfeb11",
   "metadata": {},
   "outputs": [],
   "source": [
    "# retorna os registros de 'nome_munic' e multiplicando a 'idade' e somando 35 a ela, respeitando a ordem matemática, ou seja, multiplicando primeiro e depois somando\n",
    "consulta('''\n",
    "SELECT nome_munic, 2*idade+35\n",
    "FROM primeira_tabela\n",
    "''')"
   ]
  },
  {
   "cell_type": "code",
   "execution_count": null,
   "id": "70105824-3ced-478c-906d-685335033d00",
   "metadata": {},
   "outputs": [],
   "source": [
    "# retorna os registros de 'nome_munic' e dividindo a 'idade' por 2\n",
    "consulta('''\n",
    "SELECT nome_munic, idade/2\n",
    "FROM primeira_tabela\n",
    "''')"
   ]
  },
  {
   "cell_type": "code",
   "execution_count": null,
   "id": "722f1f9d-7a03-473e-b238-8314b659b0e4",
   "metadata": {},
   "outputs": [],
   "source": [
    "# retorna os registros de 'nome_munic' e dividindo a 'idade' por 2 e retornando o resto\n",
    "consulta('''\n",
    "SELECT nome_munic, idade%2\n",
    "FROM primeira_tabela\n",
    "''')"
   ]
  },
  {
   "cell_type": "markdown",
   "id": "e0e3b268-d699-4f93-8af5-c2e388aa1755",
   "metadata": {},
   "source": [
    "## Operador Between"
   ]
  },
  {
   "cell_type": "code",
   "execution_count": null,
   "id": "ae4faa88-9aec-45e1-9ddf-1aebb86f0ba2",
   "metadata": {},
   "outputs": [],
   "source": [
    "# consultando todas as linhas (SELECT *) da 'primeira_tabela' (FROM primeira_tabela), \n",
    "# onde 'idade' esteja entre 25 e 29 (WHERE idade BETWEEN 25 AND 29) ou (WHERE idade >= 25 AND idade <= 29)\n",
    "consulta('''\n",
    "SELECT *\n",
    "FROM primeira_tabela\n",
    "WHERE idade BETWEEN 25 AND 29\n",
    "''')"
   ]
  },
  {
   "cell_type": "code",
   "execution_count": null,
   "id": "c6d29440-c4cf-48a6-8e3b-8ad542718c0f",
   "metadata": {},
   "outputs": [],
   "source": [
    "# este consulta acima^ também pode ser escrita desta forma que terá o mesmo resultado:\n",
    "consulta('''\n",
    "SELECT *\n",
    "FROM primeira_tabela\n",
    "WHERE idade \n",
    "BETWEEN 25 AND 29\n",
    "''')"
   ]
  },
  {
   "cell_type": "code",
   "execution_count": null,
   "id": "70f018c2-3ef4-45e5-ab72-f69523aa1b02",
   "metadata": {},
   "outputs": [],
   "source": [
    "# as consultas podem ser escritas desta forma também:\n",
    "consulta('''\n",
    "SELECT *\n",
    "FROM \n",
    "    primeira_tabela\n",
    "WHERE \n",
    "    idade BETWEEN 25 AND 29\n",
    "''')"
   ]
  },
  {
   "cell_type": "markdown",
   "id": "f0840126-8d42-48d6-825d-f3408d7d06c9",
   "metadata": {},
   "source": [
    "## Operador Order By"
   ]
  },
  {
   "cell_type": "code",
   "execution_count": null,
   "id": "6ab76bb7-6ed0-43c4-9226-ea94d15146ce",
   "metadata": {},
   "outputs": [],
   "source": [
    "# agora fazendo as mesmas consultas de cima e ordenando tudo pela idade (ORDER BY idade):\n",
    "consulta('''\n",
    "SELECT *\n",
    "FROM primeira_tabela\n",
    "WHERE idade \n",
    "BETWEEN 25 AND 29\n",
    "ORDER BY idade\n",
    "''')"
   ]
  },
  {
   "cell_type": "code",
   "execution_count": null,
   "id": "0a4b4c14-357c-45b2-a965-6a2198557e26",
   "metadata": {},
   "outputs": [],
   "source": [
    "# agora, buscando todos os valores que estão fora do intervalo (NOT BETWEEN 25 AND 29) ou (WHERE idade < 25 OR idade > 29)\n",
    "# e mostra as idades com ordem ascendente (ORDER BY idade ASC)\n",
    "consulta('''\n",
    "SELECT *\n",
    "FROM primeira_tabela\n",
    "WHERE idade \n",
    "NOT BETWEEN 25 AND 29\n",
    "ORDER BY idade ASC\n",
    "''')"
   ]
  },
  {
   "cell_type": "code",
   "execution_count": null,
   "id": "dbfbc657-8c90-4053-9c85-2107ee9fadbf",
   "metadata": {},
   "outputs": [],
   "source": [
    "# escolhe a coluna idade (SELECT idade) e as ordena de forma descendente \n",
    "consulta('''\n",
    "SELECT idade\n",
    "FROM primeira_tabela\n",
    "ORDER BY idade DESC\n",
    "''')"
   ]
  },
  {
   "cell_type": "code",
   "execution_count": null,
   "id": "89993b57-d862-4bb5-848c-9520629ab55d",
   "metadata": {},
   "outputs": [],
   "source": [
    "# mostra os valores unicos de nome_munic (SELECT DISTINCT nome_munic)\n",
    "consulta('''\n",
    "SELECT DISTINCT nome_munic\n",
    "FROM primeira_tabela\n",
    "''')"
   ]
  },
  {
   "cell_type": "markdown",
   "id": "a72ffb36-16dc-4f2f-b54e-07edf5861591",
   "metadata": {},
   "source": [
    "## Operadores AVG e SUM"
   ]
  },
  {
   "cell_type": "code",
   "execution_count": null,
   "id": "7de111b3-6182-449a-a6e6-a0ed45d5b4e8",
   "metadata": {},
   "outputs": [],
   "source": [
    "# Calcula a média das idades\n",
    "consulta(''' \n",
    "SELECT AVG(idade)\n",
    "FROM primeira_tabela\n",
    "''')"
   ]
  },
  {
   "cell_type": "code",
   "execution_count": null,
   "id": "99c5d841-a3d2-4954-b0f7-5e3d470662d0",
   "metadata": {},
   "outputs": [],
   "source": [
    "# Soma todas as idades \n",
    "consulta(''' \n",
    "SELECT SUM(idade)\n",
    "FROM primeira_tabela \n",
    "''')"
   ]
  },
  {
   "cell_type": "code",
   "execution_count": null,
   "id": "80fa1c5d-cc2a-41ec-8f8e-5e595cf59fbd",
   "metadata": {},
   "outputs": [],
   "source": [
    "# Soma todas as idades e divide pela média\n",
    "consulta(''' \n",
    "SELECT SUM(idade)/AVG(idade)\n",
    "FROM primeira_tabela;\n",
    "''')"
   ]
  },
  {
   "cell_type": "markdown",
   "id": "4add4a00-dedc-4fcb-97fb-664c008db94f",
   "metadata": {},
   "source": [
    "## Comando Update "
   ]
  },
  {
   "cell_type": "code",
   "execution_count": null,
   "id": "7eb7dc52-708a-4126-bf47-a26968a26d59",
   "metadata": {},
   "outputs": [],
   "source": [
    "# Escolhe a 'primeira_tabela' e atualiza todas as idades para 19 e todos os 'cs_sexo' para 'MASCULINO' (SET idade = 19, cs_sexo = MASCULINO),  \n",
    "# em todos os registros em que nome_munic é igual a 'Lins' (WHERE nome_munic='Lins')\n",
    "# Só que não salva automaticamente, então essas mudanças ficam na instância\n",
    "consulta('''\n",
    "UPDATE primeira_tabela\n",
    "SET idade = 19,  cs_sexo = 'MASCULINO'\n",
    "WHERE nome_munic='Lins'\n",
    "''')\n",
    "\n",
    "consulta('''\n",
    "--E mostra as altereções:\n",
    "SELECT *\n",
    "FROM primeira_tabela\n",
    "WHERE nome_munic='Lins'\n",
    "''')"
   ]
  },
  {
   "cell_type": "code",
   "execution_count": null,
   "id": "d69ab4bd-0d33-4f03-862a-588158566b72",
   "metadata": {},
   "outputs": [],
   "source": [
    "conta_feminino = consulta('''\n",
    "SELECT COUNT(cs_sexo)\n",
    "FROM primeira_tabela\n",
    "WHERE cs_sexo=\"FEMININO\"\n",
    "''')\n",
    "\n",
    "conta_masculino = consulta('''\n",
    "SELECT COUNT(cs_sexo)\n",
    "FROM primeira_tabela\n",
    "WHERE cs_sexo=\"MASCULINO\"\n",
    "''')\n",
    "\n",
    "# Procurando a moda do da coluna 'cs_sexo' para preecher os valores NULL da coluna 'cs_sexo'\n",
    "print(\"Numero de registros com feminino:\", conta_feminino,\"\\nNumero de registros com masculino:\", conta_masculino)"
   ]
  },
  {
   "cell_type": "code",
   "execution_count": null,
   "id": "9de5a59f-dc91-4dc1-acdc-b8a9c192ff56",
   "metadata": {},
   "outputs": [],
   "source": [
    "# Retorna as linhas onde a coluna 'cs_sexo' é NULL(WHERE cs_sexo IS NULL)\n",
    "consulta(''' \n",
    "SELECT *\n",
    "FROM primeira_tabela\n",
    "WHERE cs_sexo IS NULL\n",
    "''') "
   ]
  },
  {
   "cell_type": "code",
   "execution_count": null,
   "id": "6b3d11ac-3f98-4709-88f3-4bb31d06bdca",
   "metadata": {},
   "outputs": [],
   "source": [
    "# Atualiza os valores NULL de 'cs_sexo' pela moda: \"FEMININO\", porém não salva no banco de dados\n",
    "consulta('''\n",
    "UPDATE primeira_tabela\n",
    "SET cs_sexo = 'FEMININO'\n",
    "WHERE cs_sexo IS NULL\n",
    "''')\n",
    "\n",
    "# conexao.commit() para salvar as alterações no banco de dados"
   ]
  },
  {
   "cell_type": "code",
   "execution_count": null,
   "id": "7380bb7e-b68c-4010-bbce-150ba5952d91",
   "metadata": {},
   "outputs": [],
   "source": [
    "# Reavaliando se ainda há valores NULL\n",
    "consulta(''' \n",
    "SELECT *\n",
    "FROM primeira_tabela\n",
    "WHERE cs_sexo IS NULL\n",
    "''') "
   ]
  },
  {
   "cell_type": "markdown",
   "id": "028eb391-0f9e-4709-81b9-12eea0355991",
   "metadata": {},
   "source": [
    "## Contando a quantidade de idades duplicadas "
   ]
  },
  {
   "cell_type": "code",
   "execution_count": null,
   "id": "489340f4-3eba-4c49-b5c3-c676d6397e01",
   "metadata": {},
   "outputs": [],
   "source": [
    "consulta('''\n",
    "SELECT idade, COUNT(*)\n",
    "FROM primeira_tabela\n",
    "GROUP BY idade\n",
    "''')"
   ]
  },
  {
   "cell_type": "markdown",
   "id": "ba20f3ec-5cc7-4497-a852-304e1323f6f6",
   "metadata": {},
   "source": [
    "## Operador Like"
   ]
  },
  {
   "cell_type": "code",
   "execution_count": null,
   "id": "11606626-74fd-4d35-9b53-4d37fc2b1f50",
   "metadata": {},
   "outputs": [],
   "source": [
    "# Retorna registros onde idade é igual a 22 (WHERE idade LIKE 22)\n",
    "consulta(''' \n",
    "SELECT *\n",
    "FROM primeira_tabela\n",
    "WHERE idade LIKE 41\n",
    "''') "
   ]
  },
  {
   "cell_type": "code",
   "execution_count": null,
   "id": "c577be1d-fd6d-4b31-bf43-f69567ae5c09",
   "metadata": {},
   "outputs": [],
   "source": [
    "# retorna valores que começam com 'li' e terminam com qualquer valor (WHERE nome_munic LIKE 'Li%')\n",
    "consulta(''' \n",
    "SELECT nome_munic\n",
    "FROM primeira_tabela\n",
    "WHERE nome_munic LIKE 'li%'\n",
    "''') "
   ]
  },
  {
   "cell_type": "code",
   "execution_count": null,
   "id": "8fce9c42-b336-4bf3-8535-f8078695e952",
   "metadata": {},
   "outputs": [],
   "source": [
    "# Retorna valores que tenham 'a' na segunda posição e que terminem em qualquer valor\n",
    "consulta(''' \n",
    "SELECT *\n",
    "FROM primeira_tabela\n",
    "WHERE nome_munic LIKE '_a%'\n",
    "''') "
   ]
  },
  {
   "cell_type": "code",
   "execution_count": null,
   "id": "abe3cb05-fae8-4bf6-b40f-a1e3c541b7e6",
   "metadata": {},
   "outputs": [],
   "source": [
    "# Retorna valores que tenham um caractere antes de 'i' e que terminem em qualquer valor\n",
    "consulta(''' \n",
    "SELECT *\n",
    "FROM primeira_tabela\n",
    "WHERE nome_munic LIKE '_i%'\n",
    "''') "
   ]
  },
  {
   "cell_type": "code",
   "execution_count": null,
   "id": "a3acbdab-038b-4dc4-8a13-777a601ae94f",
   "metadata": {},
   "outputs": [],
   "source": [
    "# Retorna valores que tenham um caractere antes de 'i' na segunda posição e que tenham 2 caracteres depois de 'i'\n",
    "consulta(''' \n",
    "SELECT *\n",
    "FROM primeira_tabela\n",
    "WHERE nome_munic LIKE '_i__'\n",
    "''') "
   ]
  },
  {
   "cell_type": "code",
   "execution_count": null,
   "id": "e5445423-1837-46eb-b128-25ecd1603c61",
   "metadata": {},
   "outputs": [],
   "source": [
    "# Retorna valores que comecem com 'li' e que tenham pelo menos 3 caracteres depois de 'i' não importando quantos caracteres sejam\n",
    "consulta(''' \n",
    "SELECT *\n",
    "FROM primeira_tabela\n",
    "WHERE nome_munic LIKE 'li___%'\n",
    "''') "
   ]
  },
  {
   "cell_type": "code",
   "execution_count": null,
   "id": "5a02f3d8-5de2-4ddc-ab25-371c5590b038",
   "metadata": {},
   "outputs": [],
   "source": [
    "# Retorna valores que comecem com 'l' e que tenham qualquer valor no meio e que termine com 'ra'\n",
    "consulta(''' \n",
    "SELECT *\n",
    "FROM primeira_tabela\n",
    "WHERE nome_munic LIKE 'l%ra'\n",
    "''') "
   ]
  },
  {
   "cell_type": "code",
   "execution_count": null,
   "id": "ebdb6b9f-e03f-41f2-b31f-b3fe71f943c9",
   "metadata": {},
   "outputs": [],
   "source": [
    "# Retorna valores que comecem e terminem com qualquer valor, desde que tenham 'ei' em algum lugar\n",
    "consulta(''' \n",
    "SELECT *\n",
    "FROM primeira_tabela\n",
    "WHERE nome_munic LIKE '%ei%'\n",
    "''') "
   ]
  },
  {
   "cell_type": "markdown",
   "id": "b4a2c742-f94d-45dc-8960-d70b66de172d",
   "metadata": {},
   "source": [
    "## Operador Not Like"
   ]
  },
  {
   "cell_type": "code",
   "execution_count": null,
   "id": "d039136d-e90e-450c-9790-99313570ba97",
   "metadata": {},
   "outputs": [],
   "source": [
    "# Retorna registros onde idade NÃO é igual a 22 (WHERE idade NOT LIKE 22)\n",
    "consulta(''' \n",
    "SELECT *\n",
    "FROM primeira_tabela\n",
    "WHERE idade NOT LIKE 41\n",
    "''') "
   ]
  },
  {
   "cell_type": "code",
   "execution_count": null,
   "id": "c086ce91-a0aa-44f3-9561-df20e1ccf570",
   "metadata": {},
   "outputs": [],
   "source": [
    "# retorna valores que NÃO começem com 'li' e terminam com qualquer valor (WHERE nome_munic NOT LIKE 'Li%')\n",
    "consulta(''' \n",
    "SELECT nome_munic\n",
    "FROM primeira_tabela\n",
    "WHERE nome_munic NOT LIKE 'li%'\n",
    "''') "
   ]
  },
  {
   "cell_type": "code",
   "execution_count": null,
   "id": "25f1f37e-e3d1-40f5-9638-0b307b061de8",
   "metadata": {},
   "outputs": [],
   "source": [
    "# Retorna valores que NÃo tenham 'i' na segunda posição e que terminem em qualquer valor\n",
    "consulta(''' \n",
    "SELECT *\n",
    "FROM primeira_tabela\n",
    "WHERE nome_munic NOT LIKE '_i%'\n",
    "''') "
   ]
  },
  {
   "cell_type": "code",
   "execution_count": null,
   "id": "344e15a4-937c-4ddc-b877-0e632a028670",
   "metadata": {},
   "outputs": [],
   "source": [
    "consulta(''' \n",
    "\n",
    "''') "
   ]
  },
  {
   "cell_type": "markdown",
   "id": "e2608515-dc0f-4be4-8df3-1381072130da",
   "metadata": {},
   "source": [
    "## Outros operadores"
   ]
  },
  {
   "cell_type": "code",
   "execution_count": null,
   "id": "a38810a6-bcc4-4bb6-bd10-9ad231cd7a43",
   "metadata": {},
   "outputs": [],
   "source": [
    "# conta a quantidade de registros que mostram a idade (SELECT COUNT(idade))\n",
    "consulta('''\n",
    "SELECT COUNT(idade)\n",
    "FROM primeira_tabela \n",
    "''')"
   ]
  },
  {
   "cell_type": "code",
   "execution_count": null,
   "id": "f3d8edaa-f619-4baa-8f5f-01b77c2da7a2",
   "metadata": {},
   "outputs": [],
   "source": [
    "# conta a quantidade de registros onde a idade é maior que 30 (WHERE idade>30)\n",
    "consulta('''\n",
    "SELECT COUNT(idade)\n",
    "FROM primeira_tabela \n",
    "WHERE idade>30\n",
    "''')"
   ]
  },
  {
   "cell_type": "code",
   "execution_count": null,
   "id": "43627338-4d06-46d3-b182-12f9b8e1e34a",
   "metadata": {},
   "outputs": [],
   "source": [
    "# Escolhe a maior idade de 'primeira_tabela'\n",
    "consulta('''\n",
    "SELECT MAX(idade) \n",
    "FROM primeira_tabela\n",
    "''')"
   ]
  },
  {
   "cell_type": "code",
   "execution_count": null,
   "id": "5457621b-dfaf-4ada-a714-2ef4fe666555",
   "metadata": {},
   "outputs": [],
   "source": [
    "# Escolhe a menor idade de 'primeira_tabela'\n",
    "consulta('''\n",
    "SELECT MIN(idade) \n",
    "FROM primeira_tabela\n",
    "''')"
   ]
  },
  {
   "cell_type": "markdown",
   "id": "87d66b55-dbe5-4fa9-b79f-b214be97f2a4",
   "metadata": {},
   "source": [
    "## Segunda Tabela"
   ]
  },
  {
   "cell_type": "code",
   "execution_count": null,
   "id": "586ce020-5955-4df1-8271-59ff6b379cbb",
   "metadata": {},
   "outputs": [],
   "source": [
    "executa(''' \n",
    "CREATE TABLE segunda_tabela(\n",
    "   nome_munic              VARCHAR(8)\n",
    "  ,idade                   INTEGER\n",
    "  ,asma                    VARCHAR(8) \n",
    "  ,cardiopatia             VARCHAR(8)\n",
    "  ,diabetes                VARCHAR(8)\n",
    "  ,doenca_hematologica     VARCHAR(8)\n",
    "  ,doenca_hepatica         VARCHAR(8)\n",
    "  ,doenca_neurologica      VARCHAR(8)\n",
    "  ,doenca_renal            VARCHAR(8)\n",
    "  ,imunodepressao          VARCHAR(8)\n",
    "  ,obesidade               VARCHAR(8)\n",
    "  ,outros_fatores_de_risco VARCHAR(8)\n",
    "  ,pneumopatia             VARCHAR(8)\n",
    "  ,puerpera                VARCHAR(8)\n",
    "  ,sindrome_de_down        VARCHAR(8)\n",
    ");\n",
    "''')"
   ]
  },
  {
   "cell_type": "code",
   "execution_count": null,
   "id": "9ac46cd1-15d6-43e4-8510-04541589f9b2",
   "metadata": {},
   "outputs": [],
   "source": [
    "executa('''\n",
    "INSERT INTO segunda_tabela(nome_munic,idade,asma,cardiopatia,diabetes,doenca_hematologica,doenca_hepatica,doenca_neurologica,doenca_renal,imunodepressao,obesidade,outros_fatores_de_risco,pneumopatia,puerpera,sindrome_de_down) VALUES\n",
    " ('Louveira',41,'IGNORADO','IGNORADO','IGNORADO','IGNORADO','IGNORADO','IGNORADO','IGNORADO','IGNORADO','IGNORADO','IGNORADO','IGNORADO','IGNORADO','IGNORADO')\n",
    ",('Limeira',33,'IGNORADO','IGNORADO','IGNORADO','IGNORADO','IGNORADO','IGNORADO','IGNORADO','IGNORADO','IGNORADO','IGNORADO','IGNORADO','IGNORADO','IGNORADO')\n",
    ",('Limeira',23,'IGNORADO','IGNORADO','IGNORADO','IGNORADO','IGNORADO','IGNORADO','IGNORADO','IGNORADO','IGNORADO','IGNORADO','IGNORADO','IGNORADO','IGNORADO')\n",
    ",('Limeira',49,'IGNORADO','IGNORADO','IGNORADO','IGNORADO','IGNORADO','IGNORADO','IGNORADO','IGNORADO','IGNORADO','IGNORADO','IGNORADO','IGNORADO','IGNORADO')\n",
    ",('Limeira',29,'IGNORADO','IGNORADO','IGNORADO','IGNORADO','IGNORADO','IGNORADO','IGNORADO','IGNORADO','IGNORADO','IGNORADO','IGNORADO','IGNORADO','IGNORADO')\n",
    ",('Limeira',25,'IGNORADO','IGNORADO','IGNORADO','IGNORADO','IGNORADO','IGNORADO','IGNORADO','IGNORADO','IGNORADO','IGNORADO','IGNORADO','IGNORADO','IGNORADO')\n",
    ",('Limeira',23,'IGNORADO','IGNORADO','IGNORADO','IGNORADO','IGNORADO','IGNORADO','IGNORADO','IGNORADO','IGNORADO','IGNORADO','IGNORADO','IGNORADO','IGNORADO')\n",
    ",('Limeira',46,'IGNORADO','IGNORADO','IGNORADO','IGNORADO','IGNORADO','IGNORADO','IGNORADO','IGNORADO','IGNORADO','IGNORADO','IGNORADO','IGNORADO','IGNORADO')\n",
    ",('Limeira',33,'IGNORADO','IGNORADO','IGNORADO','IGNORADO','IGNORADO','IGNORADO','IGNORADO','IGNORADO','IGNORADO','IGNORADO','IGNORADO','IGNORADO','IGNORADO')\n",
    ",('Limeira',53,'NÃO','NÃO','NÃO','NÃO','NÃO','NÃO','NÃO','NÃO','NÃO','SIM','NÃO','NÃO','NÃO')\n",
    ",('Limeira',46,'IGNORADO','IGNORADO','IGNORADO','IGNORADO','IGNORADO','IGNORADO','IGNORADO','IGNORADO','IGNORADO','IGNORADO','IGNORADO','IGNORADO','IGNORADO')\n",
    ",('Limeira',46,'IGNORADO','IGNORADO','IGNORADO','IGNORADO','IGNORADO','IGNORADO','IGNORADO','IGNORADO','IGNORADO','IGNORADO','IGNORADO','IGNORADO','IGNORADO')\n",
    ",('Limeira',55,'IGNORADO','IGNORADO','IGNORADO','IGNORADO','IGNORADO','IGNORADO','IGNORADO','IGNORADO','IGNORADO','IGNORADO','IGNORADO','IGNORADO','IGNORADO')\n",
    ",('Limeira',32,'IGNORADO','IGNORADO','IGNORADO','IGNORADO','IGNORADO','IGNORADO','IGNORADO','IGNORADO','IGNORADO','IGNORADO','IGNORADO','IGNORADO','IGNORADO')\n",
    ",('Jaú',63,'NÃO','NÃO','SIM','NÃO','NÃO','NÃO','NÃO','NÃO','NÃO','NÃO','NÃO','NÃO','NÃO')\n",
    ",('Jaú',41,'IGNORADO','IGNORADO','IGNORADO','IGNORADO','IGNORADO','IGNORADO','IGNORADO','IGNORADO','IGNORADO','IGNORADO','IGNORADO','IGNORADO','IGNORADO')\n",
    ",('Limeira',27,'IGNORADO','IGNORADO','IGNORADO','IGNORADO','IGNORADO','IGNORADO','IGNORADO','IGNORADO','IGNORADO','IGNORADO','IGNORADO','IGNORADO','IGNORADO')\n",
    ",('Limeira',30,'IGNORADO','IGNORADO','IGNORADO','IGNORADO','IGNORADO','IGNORADO','IGNORADO','IGNORADO','IGNORADO','IGNORADO','IGNORADO','IGNORADO','IGNORADO')\n",
    ",('Limeira',47,'IGNORADO','IGNORADO','IGNORADO','IGNORADO','IGNORADO','IGNORADO','IGNORADO','IGNORADO','IGNORADO','IGNORADO','IGNORADO','IGNORADO','IGNORADO')\n",
    ",('Limeira',26,'IGNORADO','IGNORADO','IGNORADO','IGNORADO','IGNORADO','IGNORADO','IGNORADO','IGNORADO','IGNORADO','IGNORADO','IGNORADO','IGNORADO','IGNORADO')\n",
    ",('Limeira',37,'IGNORADO','IGNORADO','IGNORADO','IGNORADO','IGNORADO','IGNORADO','IGNORADO','IGNORADO','IGNORADO','IGNORADO','IGNORADO','IGNORADO','IGNORADO')\n",
    ",('Limeira',50,'IGNORADO','IGNORADO','IGNORADO','IGNORADO','IGNORADO','IGNORADO','IGNORADO','IGNORADO','IGNORADO','IGNORADO','IGNORADO','IGNORADO','IGNORADO')\n",
    ",('Limeira',49,'IGNORADO','IGNORADO','IGNORADO','IGNORADO','IGNORADO','IGNORADO','IGNORADO','IGNORADO','IGNORADO','IGNORADO','IGNORADO','IGNORADO','IGNORADO')\n",
    ",('Limeira',53,'IGNORADO','IGNORADO','IGNORADO','IGNORADO','IGNORADO','IGNORADO','IGNORADO','IGNORADO','IGNORADO','IGNORADO','IGNORADO','IGNORADO','IGNORADO')\n",
    ",('Limeira',45,'IGNORADO','IGNORADO','IGNORADO','IGNORADO','IGNORADO','IGNORADO','IGNORADO','IGNORADO','IGNORADO','IGNORADO','IGNORADO','IGNORADO','IGNORADO')\n",
    ",('Limeira',24,'IGNORADO','IGNORADO','IGNORADO','IGNORADO','IGNORADO','IGNORADO','IGNORADO','IGNORADO','IGNORADO','IGNORADO','IGNORADO','IGNORADO','IGNORADO')\n",
    ",('Lins',56,'IGNORADO','IGNORADO','IGNORADO','IGNORADO','IGNORADO','IGNORADO','IGNORADO','IGNORADO','IGNORADO','IGNORADO','IGNORADO','IGNORADO','IGNORADO')\n",
    ",('Lins',36,'IGNORADO','IGNORADO','IGNORADO','IGNORADO','IGNORADO','IGNORADO','IGNORADO','IGNORADO','IGNORADO','IGNORADO','IGNORADO','IGNORADO','IGNORADO')\n",
    ",('Lins',58,'IGNORADO','IGNORADO','IGNORADO','IGNORADO','IGNORADO','IGNORADO','IGNORADO','IGNORADO','IGNORADO','IGNORADO','IGNORADO','IGNORADO','IGNORADO')\n",
    ",('Louveira',31,'IGNORADO','SIM','IGNORADO','IGNORADO','IGNORADO','IGNORADO','IGNORADO','IGNORADO','IGNORADO','IGNORADO','IGNORADO','IGNORADO','IGNORADO')\n",
    ",('Limeira',53,'IGNORADO','IGNORADO','IGNORADO','IGNORADO','IGNORADO','IGNORADO','IGNORADO','IGNORADO','IGNORADO','IGNORADO','IGNORADO','IGNORADO','IGNORADO')\n",
    ",('Limeira',21,'IGNORADO','IGNORADO','IGNORADO','IGNORADO','IGNORADO','IGNORADO','IGNORADO','IGNORADO','IGNORADO','IGNORADO','IGNORADO','IGNORADO','IGNORADO')\n",
    ",('Limeira',59,'IGNORADO','IGNORADO','IGNORADO','IGNORADO','IGNORADO','IGNORADO','IGNORADO','IGNORADO','IGNORADO','IGNORADO','IGNORADO','IGNORADO','IGNORADO')\n",
    ",('Limeira',31,'IGNORADO','IGNORADO','IGNORADO','IGNORADO','IGNORADO','IGNORADO','IGNORADO','IGNORADO','IGNORADO','IGNORADO','IGNORADO','IGNORADO','IGNORADO')\n",
    ",('Limeira',53,'IGNORADO','IGNORADO','IGNORADO','IGNORADO','IGNORADO','IGNORADO','IGNORADO','IGNORADO','IGNORADO','IGNORADO','IGNORADO','IGNORADO','IGNORADO')\n",
    ",('Limeira',11,'IGNORADO','IGNORADO','IGNORADO','IGNORADO','IGNORADO','IGNORADO','IGNORADO','IGNORADO','IGNORADO','IGNORADO','IGNORADO','IGNORADO','IGNORADO')\n",
    ",('Limeira',34,'IGNORADO','IGNORADO','IGNORADO','IGNORADO','IGNORADO','IGNORADO','IGNORADO','IGNORADO','IGNORADO','IGNORADO','IGNORADO','IGNORADO','IGNORADO')\n",
    ",('Limeira',50,'IGNORADO','IGNORADO','IGNORADO','IGNORADO','IGNORADO','IGNORADO','IGNORADO','IGNORADO','IGNORADO','IGNORADO','IGNORADO','IGNORADO','IGNORADO')\n",
    ",('Limeira',16,'IGNORADO','IGNORADO','IGNORADO','IGNORADO','IGNORADO','IGNORADO','IGNORADO','IGNORADO','IGNORADO','IGNORADO','IGNORADO','IGNORADO','IGNORADO')\n",
    ",('Limeira',43,'IGNORADO','IGNORADO','IGNORADO','IGNORADO','IGNORADO','IGNORADO','IGNORADO','IGNORADO','IGNORADO','IGNORADO','IGNORADO','IGNORADO','IGNORADO')\n",
    ",('Limeira',28,'IGNORADO','IGNORADO','IGNORADO','IGNORADO','IGNORADO','IGNORADO','IGNORADO','IGNORADO','IGNORADO','IGNORADO','IGNORADO','IGNORADO','IGNORADO')\n",
    ",('Limeira',26,'IGNORADO','IGNORADO','IGNORADO','IGNORADO','IGNORADO','IGNORADO','IGNORADO','IGNORADO','IGNORADO','IGNORADO','IGNORADO','IGNORADO','IGNORADO')\n",
    ",('Limeira',56,'IGNORADO','IGNORADO','IGNORADO','IGNORADO','IGNORADO','IGNORADO','IGNORADO','IGNORADO','IGNORADO','IGNORADO','IGNORADO','IGNORADO','IGNORADO')\n",
    ",('Limeira',64,'IGNORADO','IGNORADO','SIM','IGNORADO','IGNORADO','IGNORADO','IGNORADO','IGNORADO','IGNORADO','IGNORADO','IGNORADO','IGNORADO','IGNORADO')\n",
    ",('Limeira',63,'IGNORADO','IGNORADO','IGNORADO','IGNORADO','IGNORADO','IGNORADO','IGNORADO','IGNORADO','IGNORADO','IGNORADO','IGNORADO','IGNORADO','IGNORADO')\n",
    ",('Lins',53,'IGNORADO','IGNORADO','IGNORADO','IGNORADO','IGNORADO','IGNORADO','IGNORADO','IGNORADO','IGNORADO','IGNORADO','IGNORADO','IGNORADO','IGNORADO')\n",
    ",('Lins',47,'IGNORADO','IGNORADO','IGNORADO','IGNORADO','IGNORADO','IGNORADO','IGNORADO','IGNORADO','IGNORADO','IGNORADO','IGNORADO','IGNORADO','IGNORADO')\n",
    ",('Limeira',22,'IGNORADO','IGNORADO','IGNORADO','IGNORADO','IGNORADO','IGNORADO','IGNORADO','IGNORADO','IGNORADO','IGNORADO','IGNORADO','IGNORADO','IGNORADO')\n",
    ",('Limeira',37,'IGNORADO','IGNORADO','IGNORADO','IGNORADO','IGNORADO','IGNORADO','IGNORADO','IGNORADO','IGNORADO','IGNORADO','IGNORADO','IGNORADO','IGNORADO')\n",
    ",('Limeira',12,'IGNORADO','IGNORADO','IGNORADO','IGNORADO','IGNORADO','IGNORADO','IGNORADO','IGNORADO','IGNORADO','IGNORADO','IGNORADO','IGNORADO','IGNORADO')\n",
    ",('Limeira',56,'IGNORADO','SIM','IGNORADO','IGNORADO','IGNORADO','IGNORADO','IGNORADO','IGNORADO','IGNORADO','IGNORADO','IGNORADO','IGNORADO','IGNORADO')\n",
    ",('Limeira',35,'IGNORADO','IGNORADO','IGNORADO','IGNORADO','IGNORADO','IGNORADO','IGNORADO','IGNORADO','IGNORADO','IGNORADO','IGNORADO','IGNORADO','IGNORADO')\n",
    ",('Limeira',57,'IGNORADO','IGNORADO','IGNORADO','IGNORADO','IGNORADO','IGNORADO','IGNORADO','IGNORADO','IGNORADO','IGNORADO','IGNORADO','IGNORADO','IGNORADO')\n",
    ",('Limeira',48,'IGNORADO','IGNORADO','IGNORADO','IGNORADO','IGNORADO','IGNORADO','IGNORADO','IGNORADO','IGNORADO','IGNORADO','IGNORADO','IGNORADO','IGNORADO')\n",
    ",('Limeira',51,'IGNORADO','IGNORADO','IGNORADO','IGNORADO','IGNORADO','IGNORADO','IGNORADO','IGNORADO','IGNORADO','IGNORADO','IGNORADO','IGNORADO','IGNORADO')\n",
    ",('Limeira',37,'IGNORADO','IGNORADO','IGNORADO','IGNORADO','IGNORADO','IGNORADO','IGNORADO','IGNORADO','IGNORADO','IGNORADO','IGNORADO','IGNORADO','IGNORADO')\n",
    ",('Limeira',43,'IGNORADO','IGNORADO','IGNORADO','IGNORADO','IGNORADO','IGNORADO','IGNORADO','IGNORADO','IGNORADO','IGNORADO','IGNORADO','IGNORADO','IGNORADO')\n",
    ",('Limeira',34,'IGNORADO','IGNORADO','IGNORADO','IGNORADO','IGNORADO','IGNORADO','IGNORADO','IGNORADO','IGNORADO','IGNORADO','IGNORADO','IGNORADO','IGNORADO')\n",
    ",('Limeira',43,'IGNORADO','IGNORADO','IGNORADO','IGNORADO','IGNORADO','IGNORADO','IGNORADO','IGNORADO','IGNORADO','IGNORADO','IGNORADO','IGNORADO','IGNORADO')\n",
    ",('Limeira',38,'IGNORADO','IGNORADO','IGNORADO','IGNORADO','IGNORADO','IGNORADO','IGNORADO','IGNORADO','IGNORADO','IGNORADO','IGNORADO','IGNORADO','IGNORADO')\n",
    ",('Louveira',21,'IGNORADO','IGNORADO','IGNORADO','IGNORADO','IGNORADO','IGNORADO','IGNORADO','IGNORADO','IGNORADO','IGNORADO','IGNORADO','IGNORADO','IGNORADO')\n",
    ",('Louveira',64,'NÃO','SIM','SIM','NÃO','NÃO','NÃO','NÃO','NÃO','NÃO','NÃO','NÃO','NÃO','NÃO')\n",
    ",('Louveira',39,'IGNORADO','IGNORADO','IGNORADO','IGNORADO','IGNORADO','IGNORADO','IGNORADO','IGNORADO','IGNORADO','IGNORADO','IGNORADO','IGNORADO','IGNORADO')\n",
    ",('Louveira',27,'IGNORADO','IGNORADO','IGNORADO','IGNORADO','IGNORADO','IGNORADO','IGNORADO','IGNORADO','IGNORADO','IGNORADO','IGNORADO','IGNORADO','IGNORADO')\n",
    ",('Louveira',35,'IGNORADO','IGNORADO','IGNORADO','IGNORADO','IGNORADO','IGNORADO','IGNORADO','IGNORADO','IGNORADO','IGNORADO','IGNORADO','IGNORADO','IGNORADO')\n",
    ",('Louveira',41,'IGNORADO','IGNORADO','IGNORADO','IGNORADO','IGNORADO','IGNORADO','IGNORADO','IGNORADO','IGNORADO','IGNORADO','IGNORADO','IGNORADO','IGNORADO')\n",
    ",('Louveira',34,'IGNORADO','IGNORADO','IGNORADO','IGNORADO','IGNORADO','IGNORADO','IGNORADO','IGNORADO','IGNORADO','IGNORADO','IGNORADO','IGNORADO','IGNORADO')\n",
    ",('Louveira',47,'IGNORADO','IGNORADO','IGNORADO','IGNORADO','IGNORADO','IGNORADO','IGNORADO','IGNORADO','IGNORADO','IGNORADO','IGNORADO','IGNORADO','IGNORADO')\n",
    ",('Louveira',26,'IGNORADO','IGNORADO','IGNORADO','IGNORADO','IGNORADO','IGNORADO','IGNORADO','IGNORADO','IGNORADO','IGNORADO','IGNORADO','IGNORADO','IGNORADO')\n",
    ",('Louveira',33,'IGNORADO','IGNORADO','IGNORADO','IGNORADO','IGNORADO','IGNORADO','IGNORADO','IGNORADO','IGNORADO','IGNORADO','IGNORADO','IGNORADO','IGNORADO')\n",
    ",('Louveira',58,'IGNORADO','IGNORADO','SIM','IGNORADO','IGNORADO','IGNORADO','IGNORADO','IGNORADO','IGNORADO','IGNORADO','IGNORADO','IGNORADO','IGNORADO')\n",
    ",('Louveira',57,'SIM','NÃO','NÃO','NÃO','NÃO','NÃO','NÃO','NÃO','NÃO','NÃO','NÃO','NÃO','NÃO')\n",
    ",('Louveira',38,'IGNORADO','SIM','SIM','IGNORADO','IGNORADO','IGNORADO','IGNORADO','IGNORADO','IGNORADO','IGNORADO','IGNORADO','IGNORADO','IGNORADO')\n",
    ",('Louveira',40,'IGNORADO','IGNORADO','IGNORADO','IGNORADO','IGNORADO','IGNORADO','IGNORADO','IGNORADO','IGNORADO','IGNORADO','IGNORADO','IGNORADO','IGNORADO')\n",
    ",('Limeira',31,'IGNORADO','IGNORADO','IGNORADO','IGNORADO','IGNORADO','IGNORADO','IGNORADO','IGNORADO','IGNORADO','IGNORADO','IGNORADO','IGNORADO','IGNORADO')\n",
    ",('Limeira',15,'IGNORADO','IGNORADO','IGNORADO','IGNORADO','IGNORADO','IGNORADO','IGNORADO','IGNORADO','IGNORADO','IGNORADO','IGNORADO','IGNORADO','IGNORADO');\n",
    "\n",
    "''')"
   ]
  },
  {
   "cell_type": "markdown",
   "id": "2e3493d0-4257-474d-a269-aeacbbd0c37f",
   "metadata": {},
   "source": [
    "## Mostrando as tabelas"
   ]
  },
  {
   "cell_type": "code",
   "execution_count": null,
   "id": "67a240fb-caef-442a-884d-c8a3db5f4e92",
   "metadata": {},
   "outputs": [],
   "source": [
    "# seleciona o nome das tabelas que estão no 'sqlite_schema'\n",
    "consulta('''\n",
    "SELECT name\n",
    "FROM sqlite_schema\n",
    "''')"
   ]
  },
  {
   "cell_type": "code",
   "execution_count": null,
   "id": "467f9371-6f1b-4695-91aa-7d0469aa79bb",
   "metadata": {},
   "outputs": [],
   "source": [
    "# para fechar a conexao entre o banco de dados \n",
    "conexao.close()"
   ]
  }
 ],
 "metadata": {
  "kernelspec": {
   "display_name": "Python 3 (ipykernel)",
   "language": "python",
   "name": "python3"
  },
  "language_info": {
   "codemirror_mode": {
    "name": "ipython",
    "version": 3
   },
   "file_extension": ".py",
   "mimetype": "text/x-python",
   "name": "python",
   "nbconvert_exporter": "python",
   "pygments_lexer": "ipython3",
   "version": "3.9.12"
  }
 },
 "nbformat": 4,
 "nbformat_minor": 5
}
